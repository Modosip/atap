{
 "cells": [
  {
   "cell_type": "code",
   "execution_count": 5,
   "metadata": {},
   "outputs": [],
   "source": [
    "import nltk\n",
    "from collections import Counter\n",
    "\n",
    "MALE = 'male'\n",
    "FEMALE = 'female'\n",
    "UNKNOWN = 'unknown'\n",
    "BOTH = 'both'\n",
    "\n",
    "MALE_WORDS = set([\n",
    "    'guy','spokesman','chairman',\"men's\",'men','him',\"he's\",'his',\n",
    "    'boy','boyfriend','boyfriends','boys','brother','brothers','dad',\n",
    "    'dads','dude','father','fathers','fiance','gentleman','gentlemen',\n",
    "    'god','grandfather','grandpa','grandson','groom','he','himself',\n",
    "    'husband','husbands','king','male','man','mr','nephew','nephews',\n",
    "    'priest','prince','son','sons','uncle','uncles','waiter','widower',\n",
    "    'widowers'\n",
    "])\n",
    "\n",
    "FEMALE_WORDS = set([\n",
    "    'heroine','spokeswoman','chairwoman',\"women's\",'actress','women',\n",
    "    \"she's\",'her','aunt','aunts','bride','daughter','daughters','female',\n",
    "    'fiancee','girl','girlfriend','girlfriends','girls','goddess',\n",
    "    'granddaughter','grandma','grandmother','herself','ladies','lady',\n",
    "    'mom','moms','mother','mothers','mrs','ms','niece','nieces',\n",
    "    'priestess','princess','queens','she','sister','sisters','waitress',\n",
    "    'widow','widows','wife','wives','woman'\n",
    "])\n",
    "\n",
    "\n",
    "def genderize(words):\n",
    "\n",
    "    mwlen = len(MALE_WORDS.intersection(words))\n",
    "    fwlen = len(FEMALE_WORDS.intersection(words))\n",
    "\n",
    "    if mwlen > 0 and fwlen == 0:\n",
    "        return MALE\n",
    "    elif mwlen == 0 and fwlen > 0:\n",
    "        return FEMALE\n",
    "    elif mwlen > 0 and fwlen > 0:\n",
    "        return BOTH\n",
    "    else:\n",
    "        return UNKNOWN\n",
    "\n",
    "\n",
    "def count_gender(sentences):\n",
    "\n",
    "    sents = Counter()\n",
    "    words = Counter()\n",
    "\n",
    "    for sentence in sentences:\n",
    "        gender = genderize(sentence)\n",
    "        sents[gender] += 1\n",
    "        words[gender] += len(sentence)\n",
    "\n",
    "    return sents, words\n",
    "\n",
    "\n",
    "def parse_gender(text):\n",
    "\n",
    "    sentences = [\n",
    "        [word.lower() for word in nltk.word_tokenize(sentence)]\n",
    "        for sentence in nltk.sent_tokenize(text)\n",
    "    ]\n",
    "\n",
    "    sents, words = count_gender(sentences)\n",
    "    total = sum(words.values())\n",
    "\n",
    "    for gender, count in words.items():\n",
    "        pcent = (count / total) * 100\n",
    "        nsents = sents[gender]\n",
    "\n",
    "        print(\n",
    "            \"{:0.3f}% {} ({} sentences)\".format(pcent, gender, nsents)\n",
    "        )\n",
    "\n"
   ]
  },
  {
   "cell_type": "code",
   "execution_count": 10,
   "metadata": {},
   "outputs": [
    {
     "name": "stdout",
     "output_type": "stream",
     "text": [
      "55.949% both (6 sentences)\n",
      "32.851% female (14 sentences)\n",
      "11.200% unknown (6 sentences)\n"
     ]
    }
   ],
   "source": [
    "if __name__ == '__main__':\n",
    "    with open('12.txt',encoding='utf-8') as f:\n",
    "        parse_gender(f.read())\n"
   ]
  },
  {
   "cell_type": "code",
   "execution_count": null,
   "metadata": {},
   "outputs": [],
   "source": []
  }
 ],
 "metadata": {
  "kernelspec": {
   "display_name": "Python 3",
   "language": "python",
   "name": "python3"
  },
  "language_info": {
   "codemirror_mode": {
    "name": "ipython",
    "version": 3
   },
   "file_extension": ".py",
   "mimetype": "text/x-python",
   "name": "python",
   "nbconvert_exporter": "python",
   "pygments_lexer": "ipython3",
   "version": "3.8.3"
  }
 },
 "nbformat": 4,
 "nbformat_minor": 4
}
